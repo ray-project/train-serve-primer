{
 "cells": [
  {
   "cell_type": "code",
   "execution_count": 13,
   "id": "19ad6f29-eeff-451e-a4b8-ca7aa1e01880",
   "metadata": {
    "tags": []
   },
   "outputs": [],
   "source": [
    "with open('token.txt', 'r') as f:\n",
    "    token = f.read()"
   ]
  },
  {
   "cell_type": "code",
   "execution_count": 14,
   "id": "3b381127-c27a-499d-bf5b-0782329ba61b",
   "metadata": {
    "tags": []
   },
   "outputs": [],
   "source": [
    "# Service specific config\n",
    "\n",
    "base_url = \"https://service-demo-xa4v3.cld-kvedzwag2qa8i5bj.s.anyscaleuserdata.com\""
   ]
  },
  {
   "cell_type": "code",
   "execution_count": 15,
   "id": "c75996c5-bc66-4562-884b-b0cefdcd9e29",
   "metadata": {
    "tags": []
   },
   "outputs": [],
   "source": [
    "import requests\n",
    "\n",
    "path = \"/\"\n",
    "full_url = f\"{base_url}{path}\"\n",
    "headers = {\"Authorization\": f\"Bearer {token}\"}"
   ]
  },
  {
   "cell_type": "code",
   "execution_count": 17,
   "id": "e7a324ea-d85b-4724-9665-7e2c9f172cc7",
   "metadata": {
    "tags": []
   },
   "outputs": [
    {
     "data": {
      "text/plain": [
       "{'result': 'Yes... hello'}"
      ]
     },
     "execution_count": 17,
     "metadata": {},
     "output_type": "execute_result"
    }
   ],
   "source": [
    "sample_json = '{ \"user_input\" : \"hello\", \"history\":[] }'\n",
    "\n",
    "requests.post(base_url,  headers={'Authorization': 'Bearer '+ token }, json = sample_json).json()"
   ]
  },
  {
   "cell_type": "code",
   "execution_count": null,
   "id": "6e015517-d3e1-45ec-924f-7661008c0c90",
   "metadata": {},
   "outputs": [],
   "source": []
  },
  {
   "cell_type": "code",
   "execution_count": null,
   "id": "8ca11884-1261-45eb-a0fe-73a478b0a04f",
   "metadata": {},
   "outputs": [],
   "source": []
  }
 ],
 "metadata": {
  "kernelspec": {
   "display_name": "Python 3 (ipykernel)",
   "language": "python",
   "name": "python3"
  },
  "language_info": {
   "codemirror_mode": {
    "name": "ipython",
    "version": 3
   },
   "file_extension": ".py",
   "mimetype": "text/x-python",
   "name": "python",
   "nbconvert_exporter": "python",
   "pygments_lexer": "ipython3",
   "version": "3.9.16"
  }
 },
 "nbformat": 4,
 "nbformat_minor": 5
}
